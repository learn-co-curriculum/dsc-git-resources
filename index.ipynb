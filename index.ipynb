{
 "cells": [
  {
   "attachments": {},
   "cell_type": "markdown",
   "metadata": {},
   "source": [
    "# Git Resources\n",
    "\n",
    "## Introduction\n",
    "\n",
    "Now that you've gotten a solid introduction to git, it's time to give you a resource trove! Take a look at these resources if you want to learn more. They're optional but great to make note of and come back to.\n",
    "\n",
    "## Objectives\n",
    "\n",
    "You will be able to:\n",
    "\n",
    "* Use resources to expand Git and Markdown skills\n",
    "\n",
    "## Git and Markdown Resources\n",
    "\n",
    "\n",
    "### Git Basics\n",
    "  - ([Gist of Git resources](https://gist.github.com/aviflombaum/0d1c335291350a2e4036))\n",
    "  - [Getting Started 1](http://git-scm.com/book/en/Getting-Started-A-Short-History-of-Git)\n",
    "  - [Getting Started 2](http://git-scm.com/book/en/Getting-Started-About-Version-Control)\n",
    "  - [Git Basics 1](http://git-scm.com/book/en/Git-Basics-Recording-Changes-to-the-Repository)\n",
    "  - [Viewing The Commit History](http://git-scm.com/book/en/Git-Basics-Viewing-the-Commit-History)\n",
    "  - [Remotes](http://git-scm.com/book/en/Git-Basics-Working-with-Remotes)\n",
    "  - [Git Kitchen](http://bloggytoons.com/posts/2013/10/10/git-kitchen-wchef-ramsay)\n",
    "  - [Branches](http://git-scm.com/book/en/Git-Branching-What-a-Branch-Is)\n",
    "  - [Merging](http://git-scm.com/book/en/Git-Branching-Basic-Branching-and-Merging)\n",
    "  - [Branch Management](http://git-scm.com/book/en/Git-Branching-Branch-Management)\n",
    "  - [Workflows](http://git-scm.com/book/en/Git-Branching-Branching-Workflows)\n",
    "  \n",
    "### Additional Git Resources\n",
    "  - [Git Branching](http://pcottle.github.io/learnGitBranching/)\n",
    "  - [Visual Git](http://marklodato.github.io/visual-git-guide/index-en.html)\n",
    "  - [Public Private Key Video](http://www.youtube.com/watch?v=3QnD2c4Xovk&feature=plcp)\n",
    "  \n",
    "### Markdown\n",
    "  - [GitHub Flavored Markdown](http://github.github.com/github-flavored-markdown)\n",
    "  - [Daring Fireball MD Basics](http://daringfireball.net/projects/markdown/basics)\n",
    "  - [Daring Fireball MD Syntax](http://daringfireball.net/projects/markdown/syntax)\n",
    "  - [Byword MultiMarkdown Guide](http://bywordapp.com/markdown/guide.html)\n",
    " \n",
    "#### Markdown plugins and apps\n",
    "  - [Sublime MD Preview Plugin](https://github.com/revolunet/sublimetext-markdown-preview)\n",
    "  - [Atom text editor](https://atom.io) has a markdown preview built in.\n",
    "\n",
    "## Summary\n",
    "\n",
    "Not a lesson in the traditional sense, but a great list of resources for you now or going forward on git resources! (Also of note, Markdown is the text formating used to display readme's on GitHub, hence the .md extension of README.md.) Cheers!\n"
   ]
  }
 ],
 "metadata": {
  "kernelspec": {
   "display_name": "Python 3",
   "language": "python",
   "name": "python3"
  },
  "language_info": {
   "codemirror_mode": {
    "name": "ipython",
    "version": 3
   },
   "file_extension": ".py",
   "mimetype": "text/x-python",
   "name": "python",
   "nbconvert_exporter": "python",
   "pygments_lexer": "ipython3",
   "version": "3.6.9"
  }
 },
 "nbformat": 4,
 "nbformat_minor": 2
}
